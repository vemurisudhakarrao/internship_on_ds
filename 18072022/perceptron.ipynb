{
  "metadata": {
    "language_info": {
      "codemirror_mode": {
        "name": "python",
        "version": 3
      },
      "file_extension": ".py",
      "mimetype": "text/x-python",
      "name": "python",
      "nbconvert_exporter": "python",
      "pygments_lexer": "ipython3",
      "version": "3.8"
    },
    "kernelspec": {
      "name": "python",
      "display_name": "Python (Pyodide)",
      "language": "python"
    }
  },
  "nbformat_minor": 4,
  "nbformat": 4,
  "cells": [
    {
      "cell_type": "markdown",
      "source": "#perceptron",
      "metadata": {}
    },
    {
      "cell_type": "code",
      "source": "threshold = 1.5\ninputs = [1, 0, 1, 0, 1]\nweights = [0.7, 0.6, 0.5, 0.3, 0.4]\nsum = 0\nfor i in range(len(inputs)):\n      sum += inputs[i] * weights[i]\nif(sum>threshold):\n    print(\"true\")\nelse:\n    print(\"flase\")",
      "metadata": {
        "trusted": true
      },
      "execution_count": 7,
      "outputs": [
        {
          "name": "stdout",
          "text": "true\n",
          "output_type": "stream"
        }
      ]
    },
    {
      "cell_type": "code",
      "source": "",
      "metadata": {},
      "execution_count": null,
      "outputs": []
    }
  ]
}